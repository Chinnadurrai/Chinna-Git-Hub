{
  "nbformat": 4,
  "nbformat_minor": 0,
  "metadata": {
    "colab": {
      "provenance": [],
      "authorship_tag": "ABX9TyMY/91PBrkAlEoc4AnGDXnz",
      "include_colab_link": true
    },
    "kernelspec": {
      "name": "python3",
      "display_name": "Python 3"
    },
    "language_info": {
      "name": "python"
    }
  },
  "cells": [
    {
      "cell_type": "markdown",
      "metadata": {
        "id": "view-in-github",
        "colab_type": "text"
      },
      "source": [
        "<a href=\"https://colab.research.google.com/github/Chinnadurrai/Chinna-Git-Hub/blob/main/Harris_Hawk_himmal.ipynb\" target=\"_parent\"><img src=\"https://colab.research.google.com/assets/colab-badge.svg\" alt=\"Open In Colab\"/></a>"
      ]
    },
    {
      "cell_type": "code",
      "source": [
        "# prompt: harris hawk optimization algorithm for himmal bleau test function\n",
        "\n",
        "import numpy as np\n",
        "import random\n",
        "\n",
        "def himmal_bleau_function(x):\n",
        "  \"\"\"\n",
        "  Himmal Bleau test function.\n",
        "\n",
        "  Args:\n",
        "    x: A numpy array representing the input vector.\n",
        "\n",
        "  Returns:\n",
        "    The function value at the given point.\n",
        "  \"\"\"\n",
        "  return (x[0] ** 2 + x[1] ** 2) / 4000 - np.cos(x[0] / np.sqrt(1 + x[1] ** 2)) - np.cos(x[1] / np.sqrt(1 + x[0] ** 2)) + 1\n",
        "\n",
        "def harris_hawks_optimization(objective_function, lb, ub, dim, n_iter=1000, n_hawks=10):\n",
        "  \"\"\"\n",
        "  Harris Hawks Optimization algorithm.\n",
        "\n",
        "  Args:\n",
        "    objective_function: The objective function to be optimized.\n",
        "    lb: Lower bound of the search space.\n",
        "    ub: Upper bound of the search space.\n",
        "    dim: Dimensionality of the problem.\n",
        "    n_iter: Number of iterations.\n",
        "    n_hawks: Number of hawks in the population.\n",
        "\n",
        "  Returns:\n",
        "    The best solution found.\n",
        "  \"\"\"\n",
        "\n",
        "  # Initialize hawks\n",
        "  hawks = np.random.uniform(low=lb, high=ub, size=(n_hawks, dim))\n",
        "  fitness = np.array([objective_function(hawk) for hawk in hawks])\n",
        "  best_hawk_idx = np.argmin(fitness)\n",
        "  best_hawk = hawks[best_hawk_idx]\n",
        "  best_fitness = fitness[best_hawk_idx]\n",
        "\n",
        "  # Optimization loop\n",
        "  for i in range(n_iter):\n",
        "    for j in range(n_hawks):\n",
        "      # Update hawks\n",
        "      E1 = 2 * (1 - random.random())  # Random number between -2 and 2\n",
        "      E2 = 2 * random.random()  # Random number between 0 and 2\n",
        "\n",
        "      if random.random() >= 0.5:\n",
        "        # Exploration phase\n",
        "        r1 = random.random()\n",
        "        r2 = random.random()\n",
        "\n",
        "        if abs(E1) >= 1:\n",
        "          # Random search\n",
        "          rand_hawk_idx = random.randint(0, n_hawks - 1)\n",
        "          rand_hawk = hawks[rand_hawk_idx]\n",
        "          hawks[j] = rand_hawk - r1 * abs(rand_hawk - 2 * r2 * hawks[j])\n",
        "        else:\n",
        "          # Levy flight\n",
        "          beta = 1.5\n",
        "          mu = 0\n",
        "          sigma = (np.math.gamma(1 + beta) * np.sin(np.pi * beta / 2) /\n",
        "                   (np.math.gamma((1 + beta) / 2) * beta * 2 ** ((beta - 1) / 2))) ** (1 / beta)\n",
        "          u = np.random.normal(mu, sigma, size=dim)\n",
        "          v = np.random.normal(mu, 1, size=dim)\n",
        "          step_size = u / abs(v) ** (1 / beta)\n",
        "          hawks[j] = best_hawk + E1 * step_size\n",
        "      else:\n",
        "        # Exploitation phase\n",
        "        r3 = random.random()\n",
        "        r4 = random.random()\n",
        "\n",
        "        if r3 >= 0.5 and abs(E2) < 1:\n",
        "          # Soft besiege\n",
        "          delta_x = abs(best_hawk - hawks[j])\n",
        "          hawks[j] = best_hawk - E2 * delta_x\n",
        "        elif r3 >= 0.5 and abs(E2) >= 1:\n",
        "          # Hard besiege\n",
        "          rabbit_position = best_hawk\n",
        "          hawks[j] = rabbit_position - E2 * abs(rabbit_position - np.mean(hawks, axis=0))\n",
        "        elif r3 < 0.5 and abs(E2) < 1:\n",
        "          # Soft besiege with progressive raiding\n",
        "          delta_x = abs(best_hawk - hawks[j])\n",
        "          hawks[j] = delta_x - E2 * abs(delta_x - r4 * (best_hawk - np.mean(hawks, axis=0)))\n",
        "        elif r3 < 0.5 and abs(E2) >= 1:\n",
        "          # Hard besiege with progressive raiding\n",
        "          rabbit_position = best_hawk\n",
        "          delta_x = abs(rabbit_position - hawks[j])\n",
        "          hawks[j] = delta_x - E2 * abs(delta_x - r4 * (rabbit_position - np.mean(hawks, axis=0)))\n",
        "\n",
        "      # Ensure hawks stay within bounds\n",
        "      hawks[j] = np.clip(hawks[j], lb, ub)\n",
        "\n",
        "      # Update fitness\n",
        "      current_fitness = objective_function(hawks[j])\n",
        "      if current_fitness < fitness[j]:\n",
        "        fitness[j] = current_fitness\n",
        "        if current_fitness < best_fitness:\n",
        "          best_hawk = hawks[j]\n",
        "          best_fitness = current_fitness\n",
        "\n",
        "  return best_hawk, best_fitness\n",
        "\n",
        "# Define the search space\n",
        "lb = [-5, -5]  # Lower bound\n",
        "ub = [5, 5]  # Upper bound\n",
        "dim = 2  # Dimensionality\n",
        "\n",
        "# Run the optimization algorithm\n",
        "best_solution, best_fitness = harris_hawks_optimization(himmal_bleau_function, lb, ub, dim)\n",
        "\n",
        "print(\"Best solution:\", best_solution)\n",
        "print(\"Best fitness:\", best_fitness)\n"
      ],
      "metadata": {
        "colab": {
          "base_uri": "https://localhost:8080/"
        },
        "id": "SvK04FvcyCN7",
        "outputId": "bc3ce56c-fdf0-4fe1-fb8c-8ab022800fc1"
      },
      "execution_count": 1,
      "outputs": [
        {
          "output_type": "stream",
          "name": "stderr",
          "text": [
            "<ipython-input-1-cfa83ea6823c>:62: DeprecationWarning: `np.math` is a deprecated alias for the standard library `math` module (Deprecated Numpy 1.25). Replace usages of `np.math` with `math`\n",
            "  sigma = (np.math.gamma(1 + beta) * np.sin(np.pi * beta / 2) /\n",
            "<ipython-input-1-cfa83ea6823c>:63: DeprecationWarning: `np.math` is a deprecated alias for the standard library `math` module (Deprecated Numpy 1.25). Replace usages of `np.math` with `math`\n",
            "  (np.math.gamma((1 + beta) / 2) * beta * 2 ** ((beta - 1) / 2))) ** (1 / beta)\n"
          ]
        },
        {
          "output_type": "stream",
          "name": "stdout",
          "text": [
            "Best solution: [-0.47775571 -0.54241742]\n",
            "Best fitness: -0.999999998234907\n"
          ]
        }
      ]
    }
  ]
}